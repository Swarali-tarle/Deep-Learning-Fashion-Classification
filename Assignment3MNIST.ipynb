{
 "cells": [
  {
   "cell_type": "code",
   "execution_count": 1,
   "metadata": {},
   "outputs": [],
   "source": [
    "import numpy as np\n",
    "import pandas as pd\n",
    "import tensorflow as tf\n",
    "from tensorflow.keras.utils import to_categorical\n",
    "import matplotlib.pyplot as plt\n",
    "\n",
    "# Load dataset\n",
    "train_data = pd.read_csv('fashion-mnist_train.csv')\n",
    "test_data = pd.read_csv('fashion-mnist_test.csv')\n",
    "\n",
    "# Separate features and labels\n",
    "X_train = train_data.iloc[:, 1:].values / 255.0\n",
    "Y_train = train_data.iloc[:, 0].values\n",
    "X_test = test_data.iloc[:, 1:].values / 255.0\n",
    "Y_test = test_data.iloc[:, 0].values\n",
    "\n",
    "# One-hot encode labels\n",
    "Y_train = to_categorical(Y_train, 10)\n",
    "Y_test = to_categorical(Y_test, 10)\n",
    "\n",
    "# Reshape input data to match image format (28x28 pixels, 1 channel)\n",
    "X_train = X_train.reshape(-1, 28, 28, 1)\n",
    "X_test = X_test.reshape(-1, 28, 28, 1)\n"
   ]
  },
  {
   "cell_type": "code",
   "execution_count": null,
   "metadata": {},
   "outputs": [],
   "source": [
    "model = tf.keras.Sequential([\n",
    "    tf.keras.layers.Conv2D(32, (3, 3), activation='relu', input_shape=(28, 28, 1)),\n",
    "    tf.keras.layers.MaxPooling2D((2, 2)),\n",
    "    tf.keras.layers.Flatten(),\n",
    "    tf.keras.layers.Dense(128, activation='relu'),\n",
    "    tf.keras.layers.Dense(10, activation='softmax')\n",
    "])\n",
    "\n",
    "model.compile(optimizer='adam', \n",
    "              loss='categorical_crossentropy', \n",
    "              metrics=['accuracy'])\n",
    "\n",
    "model.summary()\n"
   ]
  },
  {
   "cell_type": "code",
   "execution_count": null,
   "metadata": {},
   "outputs": [],
   "source": [
    "history = model.fit(X_train, Y_train, epochs=10, batch_size=32, validation_data=(X_test, Y_test))"
   ]
  },
  {
   "cell_type": "code",
   "execution_count": null,
   "metadata": {},
   "outputs": [],
   "source": [
    "loss, accuracy = model.evaluate(X_test, Y_test)\n",
    "print(f\"Test Set Accuracy: {accuracy * 100:.2f}%\")"
   ]
  },
  {
   "cell_type": "code",
   "execution_count": null,
   "metadata": {},
   "outputs": [],
   "source": [
    "class_labels = ['T-shirt/top', 'Trouser', 'Pullover', 'Dress', 'Coat',\n",
    "                'Sandal', 'Shirt', 'Sneaker', 'Bag', 'Ankle boot']\n",
    "\n",
    "def predict_classes(X):\n",
    "    predictions = model.predict(X)\n",
    "    return np.argmax(predictions, axis=1)\n",
    "\n",
    "predicted_classes = predict_classes(X_test)\n",
    "actual_classes = np.argmax(Y_test, axis=1)\n",
    "\n",
    "# Plot actual vs predicted images\n",
    "def plot_images(images, actual, predicted, class_labels):\n",
    "    plt.figure(figsize=(12, 12))\n",
    "    for i in range(10):\n",
    "        plt.subplot(5, 5, i+1)\n",
    "        plt.imshow(images[i].reshape(28, 28), cmap='gray')\n",
    "        plt.title(f\"Actual: {class_labels[actual[i]]}\\nPredicted: {class_labels[predicted[i]]}\", fontsize=10)\n",
    "        plt.axis('off')\n",
    "        plt.subplots_adjust(hspace=0.5)  # Adjust the space between plots\n",
    "    plt.show()\n",
    "\n",
    "\n",
    "plot_images(X_test, actual_classes, predicted_classes, class_labels)\n",
    "\n",
    "# Calculate accuracy\n",
    "accuracy = np.sum(predicted_classes == actual_classes) / actual_classes.size\n",
    "print(f\"Accuracy: {accuracy * 100:.2f}%\")"
   ]
  },
  {
   "cell_type": "code",
   "execution_count": null,
   "metadata": {},
   "outputs": [],
   "source": []
  }
 ],
 "metadata": {
  "kernelspec": {
   "display_name": "Python 3 (ipykernel)",
   "language": "python",
   "name": "python3"
  },
  "language_info": {
   "codemirror_mode": {
    "name": "ipython",
    "version": 3
   },
   "file_extension": ".py",
   "mimetype": "text/x-python",
   "name": "python",
   "nbconvert_exporter": "python",
   "pygments_lexer": "ipython3",
   "version": "3.10.0"
  }
 },
 "nbformat": 4,
 "nbformat_minor": 4
}
